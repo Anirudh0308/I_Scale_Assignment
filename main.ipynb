{
 "cells": [
  {
   "cell_type": "code",
   "execution_count": null,
   "id": "793856be",
   "metadata": {},
   "outputs": [],
   "source": [
    "import pandas as pd\n",
    "import numpy as np\n",
    "import matplotlib.pyplot as plt\n",
    "import seaborn as sns\n",
    "from datetime import timedelta\n",
    "import joblib\n",
    "from sklearn.ensemble import RandomForestClassifier"
   ]
  },
  {
   "cell_type": "code",
   "execution_count": null,
   "id": "f4aae911",
   "metadata": {},
   "outputs": [],
   "source": [
    "df = pd.read_csv(\"Data_Analytics_Task.csv\")\n"
   ]
  },
  {
   "cell_type": "code",
   "execution_count": null,
   "id": "6a9ff478",
   "metadata": {},
   "outputs": [],
   "source": [
    "# First 5 rows dekhne ke liye\n",
    "print(df.head())\n",
    "print(df.info())"
   ]
  },
  {
   "cell_type": "code",
   "execution_count": null,
   "id": "9fa58d44",
   "metadata": {},
   "outputs": [],
   "source": [
    "# DateTime format convert karna\n",
    "df['slot_start_time'] = pd.to_datetime(df['slot_start_time'])\n",
    "df['payment_time'] = pd.to_datetime(df['payment_time'], errors='coerce')"
   ]
  },
  {
   "cell_type": "code",
   "execution_count": null,
   "id": "b61a1cd8",
   "metadata": {},
   "outputs": [],
   "source": [
    "# Naya column: Conversion hua ya nahi\n",
    "df['converted'] = np.where(df['payment_time'].notnull(),1,0)"
   ]
  },
  {
   "cell_type": "code",
   "execution_count": null,
   "id": "efa90fdd",
   "metadata": {},
   "outputs": [],
   "source": [
    "def conversion_within_days(x, days):\n",
    "    return ((x['payment_time'] - x['slot_start_time']).dt.days <= days) & (x['converted'] == 1)\n",
    "\n",
    "df['conversion_3d'] = conversion_within_days(df, 3)\n",
    "df['conversion_7d'] = conversion_within_days(df, 7)\n"
   ]
  },
  {
   "cell_type": "code",
   "execution_count": null,
   "id": "91a3cd4e",
   "metadata": {},
   "outputs": [],
   "source": [
    "# work on a copy\n",
    "df2 = df.copy()\n",
    "\n",
    "df2.columns = df2.columns.str.strip().str.lower().str.replace(' ', '_')\n",
    "\n",
    "if 'lead_type' not in df2.columns:\n",
    "    if 'india_vs_nri' in df2.columns:\n",
    "        df2 = df2.rename(columns={'india_vs_nri': 'lead_type'})\n",
    "    else:\n",
    "        fallback = None\n",
    "        for cand in ['medicalconditionflag', 'target_class', 'booked_flag', 'user_id']:\n",
    "            if cand in df2.columns:\n",
    "                fallback = cand\n",
    "                break\n",
    "        if fallback:\n",
    "            df2['lead_type'] = df2[fallback].astype(str)\n",
    "        else:\n",
    "            raise KeyError(\"No suitable column found to use as 'lead_type'. Please tell me which column should be used.\")\n",
    "\n",
    "# Ensure required time columns exist\n",
    "required = ['slot_start_time', 'payment_time', 'funnel']\n",
    "missing = [c for c in required if c not in df2.columns]\n",
    "if missing:\n",
    "    raise KeyError(f\"Missing required column(s): {missing}. Available columns: {df2.columns.tolist()}\")\n",
    "\n",
    "# Convert to datetime\n",
    "df2['slot_start_time'] = pd.to_datetime(df2['slot_start_time'], errors='coerce')\n",
    "df2['payment_time']    = pd.to_datetime(df2['payment_time'], errors='coerce')\n",
    "\n",
    "# how many missing datetimes\n",
    "print(\"Missing slot_start_time:\", df2['slot_start_time'].isna().sum())\n",
    "print(\"Missing payment_time   :\", df2['payment_time'].isna().sum())\n",
    "\n",
    "df2['delta_days'] = (df2['payment_time'] - df2['slot_start_time']).dt.days\n",
    "\n",
    "\n",
    "df2['conversion_3d'] = np.where(df2['delta_days'].notna() & (df2['delta_days'] >= 0) & (df2['delta_days'] <= 3), 1, 0)\n",
    "df2['conversion_7d'] = np.where(df2['delta_days'].notna() & (df2['delta_days'] >= 0) & (df2['delta_days'] <= 7), 1, 0)\n",
    "\n",
    "\n",
    "conversion_stats = (\n",
    "    df2.groupby(['funnel', 'lead_type'])[['conversion_3d', 'conversion_7d']]\n",
    "    .mean()\n",
    "    .reset_index()\n",
    ")\n",
    "\n",
    "print(conversion_stats)\n",
    "\n",
    "\n"
   ]
  },
  {
   "cell_type": "code",
   "execution_count": null,
   "id": "e70157cd",
   "metadata": {},
   "outputs": [],
   "source": [
    "# Slot hour nikalna\n",
    "df['hour'] = df['slot_start_time'].dt.hour\n"
   ]
  },
  {
   "cell_type": "code",
   "execution_count": null,
   "id": "6a0745d5",
   "metadata": {},
   "outputs": [],
   "source": [
    "# Har hour me conversion rate\n",
    "hourly_sales = df.groupby('hour')['converted'].mean().reset_index()"
   ]
  },
  {
   "cell_type": "code",
   "execution_count": null,
   "id": "3d5d65ee",
   "metadata": {},
   "outputs": [],
   "source": [
    "plt.figure(figsize=(10,5))\n",
    "sns.lineplot(data=hourly_sales, x='hour', y='converted', marker='o')\n",
    "plt.title(\"Best Hours for Conversion\")\n",
    "plt.xlabel(\"Hour of Day\")\n",
    "plt.ylabel(\"Conversion Rate\")\n",
    "plt.show()"
   ]
  },
  {
   "cell_type": "code",
   "execution_count": null,
   "id": "391e0c0a",
   "metadata": {},
   "outputs": [],
   "source": [
    "coach_performance = df.groupby('target_class')['converted'].mean().reset_index()"
   ]
  },
  {
   "cell_type": "code",
   "execution_count": null,
   "id": "19e05678",
   "metadata": {},
   "outputs": [],
   "source": [
    "plt.figure(figsize=(6,4))\n",
    "sns.barplot(data=coach_performance, x='target_class', y='converted', order=['A','B','C','D'])\n",
    "plt.title(\"Coach Class vs Conversion Rate\")\n",
    "plt.show()"
   ]
  },
  {
   "cell_type": "code",
   "execution_count": null,
   "id": "9cc2e691",
   "metadata": {},
   "outputs": [],
   "source": [
    "df.columns"
   ]
  },
  {
   "cell_type": "code",
   "execution_count": null,
   "id": "254d0fbe",
   "metadata": {},
   "outputs": [],
   "source": [
    "# Country type comparison\n",
    "country_insights = df.groupby('India vs NRI')['converted'].mean().reset_index()\n",
    "country_insights.rename(columns={'converted': 'conversion_rate'}, inplace=True)\n",
    "\n",
    "print(\"Conversion by Country Type:\\n\", country_insights)"
   ]
  },
  {
   "cell_type": "code",
   "execution_count": null,
   "id": "7717e181",
   "metadata": {},
   "outputs": [],
   "source": [
    "# Funnel wise total conversions\n",
    "funnel_insights = df.groupby('funnel')['converted'].mean().reset_index()\n",
    "print(\"Conversion by Funnel:\\n\", funnel_insights)\n"
   ]
  },
  {
   "cell_type": "code",
   "execution_count": null,
   "id": "7129389d",
   "metadata": {},
   "outputs": [],
   "source": [
    "print(\"🔹 Recommendations:\")\n",
    "print(\"1. Focus on Funnel + Lead Types with higher 7-day conversion.\")\n",
    "print(\"2. Run campaigns during peak conversion hours:\", hourly_sales.sort_values('converted', ascending=False).head(3))\n",
    "print(\"3. Assign high-value leads to 'A' & 'B' coaches for max sales.\")\n",
    "print(\"4. Consider special strategy for NRI vs India leads depending on performance.\")"
   ]
  },
  {
   "cell_type": "code",
   "execution_count": null,
   "id": "18563405",
   "metadata": {},
   "outputs": [],
   "source": [
    "# model.pkl\n",
    "X = df.select_dtypes(include=\"number\").drop(columns=[\"converted\", \"hour\"], errors=\"ignore\")\n",
    "y = df[\"converted\"]\n",
    "\n",
    "model = RandomForestClassifier()\n",
    "model.fit(X, y)\n",
    "\n",
    "joblib.dump(model, \"model.pkl\")\n",
    "print(\" Model saved as model.pkl\")"
   ]
  }
 ],
 "metadata": {
  "kernelspec": {
   "display_name": ".venv (3.13.2)",
   "language": "python",
   "name": "python3"
  },
  "language_info": {
   "codemirror_mode": {
    "name": "ipython",
    "version": 3
   },
   "file_extension": ".py",
   "mimetype": "text/x-python",
   "name": "python",
   "nbconvert_exporter": "python",
   "pygments_lexer": "ipython3",
   "version": "3.13.2"
  }
 },
 "nbformat": 4,
 "nbformat_minor": 5
}
