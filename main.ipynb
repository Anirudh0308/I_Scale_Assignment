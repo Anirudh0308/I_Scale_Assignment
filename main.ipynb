{
 "cells": [
  {
   "cell_type": "code",
   "execution_count": 1,
   "id": "793856be",
   "metadata": {},
   "outputs": [],
   "source": [
    "import pandas as pd\n",
    "import numpy as np\n",
    "import matplotlib.pyplot as plt\n",
    "import seaborn as sns\n",
    "from datetime import timedelta"
   ]
  },
  {
   "cell_type": "code",
   "execution_count": 2,
   "id": "f4aae911",
   "metadata": {},
   "outputs": [
    {
     "name": "stderr",
     "output_type": "stream",
     "text": [
      "C:\\Users\\ASUS\\AppData\\Local\\Temp\\ipykernel_19744\\1056596955.py:1: DtypeWarning: Columns (11) have mixed types. Specify dtype option on import or set low_memory=False.\n",
      "  df = pd.read_csv(\"Data_Analytics_Task.csv\")\n"
     ]
    }
   ],
   "source": [
    "df = pd.read_csv(\"Data_Analytics_Task.csv\")\n"
   ]
  },
  {
   "cell_type": "code",
   "execution_count": 3,
   "id": "6a9ff478",
   "metadata": {},
   "outputs": [
    {
     "name": "stdout",
     "output_type": "stream",
     "text": [
      "   expert_id  team_lead_id  user_id India vs NRI medicalconditionflag funnel  \\\n",
      "0    4158219         57319    88612        India                  Yes    Bot   \n",
      "1    3204022         57319   220396        India                  Yes    Bot   \n",
      "2    7505333       4409298   648533        India                  Yes     FT   \n",
      "3     888689         57319   682607        India                   No    Bot   \n",
      "4    7542742       1140109  2259628        India                  Yes    Bot   \n",
      "\n",
      "            event_type current_status      handled_time   slot_start_time  \\\n",
      "0  Booked Consultation           Done  22-01-2019 14:22  22-01-2019 10:30   \n",
      "1  Booked Consultation           Done  29-12-2018 18:43  29-12-2018 17:45   \n",
      "2  Booked Consultation           Done  11-12-2018 16:24  11-12-2018 15:45   \n",
      "3  Booked Consultation     Didnt Pick  28-12-2018 16:03  28-12-2018 15:30   \n",
      "4  Booked Consultation           Done  08-01-2019 14:56  05-01-2019 13:30   \n",
      "\n",
      "  booked_flag      payment_time target_class  \n",
      "0      Booked  26-01-2019 19:24            B  \n",
      "1      Booked  29-12-2018 19:40            A  \n",
      "2      Booked  11-12-2018 16:23            C  \n",
      "3      Booked  05-01-2019 18:25            A  \n",
      "4      Booked  08-01-2019 16:30            C  \n",
      "<class 'pandas.core.frame.DataFrame'>\n",
      "RangeIndex: 73480 entries, 0 to 73479\n",
      "Data columns (total 13 columns):\n",
      " #   Column                Non-Null Count  Dtype \n",
      "---  ------                --------------  ----- \n",
      " 0   expert_id             73480 non-null  int64 \n",
      " 1   team_lead_id          73480 non-null  int64 \n",
      " 2   user_id               73480 non-null  int64 \n",
      " 3   India vs NRI          73480 non-null  object\n",
      " 4   medicalconditionflag  73480 non-null  object\n",
      " 5   funnel                73480 non-null  object\n",
      " 6   event_type            73480 non-null  object\n",
      " 7   current_status        73480 non-null  object\n",
      " 8   handled_time          72709 non-null  object\n",
      " 9   slot_start_time       73480 non-null  object\n",
      " 10  booked_flag           73480 non-null  object\n",
      " 11  payment_time          3360 non-null   object\n",
      " 12  target_class          73480 non-null  object\n",
      "dtypes: int64(3), object(10)\n",
      "memory usage: 7.3+ MB\n",
      "None\n"
     ]
    }
   ],
   "source": [
    "# First 5 rows dekhne ke liye\n",
    "print(df.head())\n",
    "print(df.info())"
   ]
  },
  {
   "cell_type": "code",
   "execution_count": 4,
   "id": "9fa58d44",
   "metadata": {},
   "outputs": [
    {
     "name": "stderr",
     "output_type": "stream",
     "text": [
      "C:\\Users\\ASUS\\AppData\\Local\\Temp\\ipykernel_19744\\3126324514.py:2: UserWarning: Parsing dates in %d-%m-%Y %H:%M format when dayfirst=False (the default) was specified. Pass `dayfirst=True` or specify a format to silence this warning.\n",
      "  df['slot_start_time'] = pd.to_datetime(df['slot_start_time'])\n",
      "C:\\Users\\ASUS\\AppData\\Local\\Temp\\ipykernel_19744\\3126324514.py:3: UserWarning: Parsing dates in %d-%m-%Y %H:%M format when dayfirst=False (the default) was specified. Pass `dayfirst=True` or specify a format to silence this warning.\n",
      "  df['payment_time'] = pd.to_datetime(df['payment_time'], errors='coerce')\n"
     ]
    }
   ],
   "source": [
    "# DateTime format convert karna\n",
    "df['slot_start_time'] = pd.to_datetime(df['slot_start_time'])\n",
    "df['payment_time'] = pd.to_datetime(df['payment_time'], errors='coerce')"
   ]
  },
  {
   "cell_type": "code",
   "execution_count": 5,
   "id": "b61a1cd8",
   "metadata": {},
   "outputs": [],
   "source": [
    "# Naya column: Conversion hua ya nahi\n",
    "df['converted'] = np.where(df['payment_time'].notnull(),1,0)"
   ]
  },
  {
   "cell_type": "code",
   "execution_count": 6,
   "id": "efa90fdd",
   "metadata": {},
   "outputs": [],
   "source": [
    "def conversion_within_days(x, days):\n",
    "    return ((x['payment_time'] - x['slot_start_time']).dt.days <= days) & (x['converted'] == 1)\n",
    "\n",
    "df['conversion_3d'] = conversion_within_days(df, 3)\n",
    "df['conversion_7d'] = conversion_within_days(df, 7)\n"
   ]
  },
  {
   "cell_type": "code",
   "execution_count": 7,
   "id": "91a3cd4e",
   "metadata": {},
   "outputs": [
    {
     "name": "stdout",
     "output_type": "stream",
     "text": [
      "Missing slot_start_time: 0\n",
      "Missing payment_time   : 70120\n",
      "  funnel lead_type  conversion_3d  conversion_7d\n",
      "0    Bot     India       0.039215       0.044914\n",
      "1    Bot       NRI       0.055566       0.061955\n",
      "2    Bot     Other       0.006289       0.012579\n",
      "3     FT     India       0.021704       0.024846\n",
      "4     FT       NRI       0.037602       0.043822\n",
      "5     FT     Other       0.001745       0.003490\n"
     ]
    }
   ],
   "source": [
    "# work on a copy\n",
    "df2 = df.copy()\n",
    "\n",
    "df2.columns = df2.columns.str.strip().str.lower().str.replace(' ', '_')\n",
    "\n",
    "if 'lead_type' not in df2.columns:\n",
    "    if 'india_vs_nri' in df2.columns:\n",
    "        df2 = df2.rename(columns={'india_vs_nri': 'lead_type'})\n",
    "    else:\n",
    "        fallback = None\n",
    "        for cand in ['medicalconditionflag', 'target_class', 'booked_flag', 'user_id']:\n",
    "            if cand in df2.columns:\n",
    "                fallback = cand\n",
    "                break\n",
    "        if fallback:\n",
    "            df2['lead_type'] = df2[fallback].astype(str)\n",
    "        else:\n",
    "            raise KeyError(\"No suitable column found to use as 'lead_type'. Please tell me which column should be used.\")\n",
    "\n",
    "# Ensure required time columns exist\n",
    "required = ['slot_start_time', 'payment_time', 'funnel']\n",
    "missing = [c for c in required if c not in df2.columns]\n",
    "if missing:\n",
    "    raise KeyError(f\"Missing required column(s): {missing}. Available columns: {df2.columns.tolist()}\")\n",
    "\n",
    "# Convert to datetime\n",
    "df2['slot_start_time'] = pd.to_datetime(df2['slot_start_time'], errors='coerce')\n",
    "df2['payment_time']    = pd.to_datetime(df2['payment_time'], errors='coerce')\n",
    "\n",
    "# how many missing datetimes\n",
    "print(\"Missing slot_start_time:\", df2['slot_start_time'].isna().sum())\n",
    "print(\"Missing payment_time   :\", df2['payment_time'].isna().sum())\n",
    "\n",
    "df2['delta_days'] = (df2['payment_time'] - df2['slot_start_time']).dt.days\n",
    "\n",
    "\n",
    "df2['conversion_3d'] = np.where(df2['delta_days'].notna() & (df2['delta_days'] >= 0) & (df2['delta_days'] <= 3), 1, 0)\n",
    "df2['conversion_7d'] = np.where(df2['delta_days'].notna() & (df2['delta_days'] >= 0) & (df2['delta_days'] <= 7), 1, 0)\n",
    "\n",
    "\n",
    "conversion_stats = (\n",
    "    df2.groupby(['funnel', 'lead_type'])[['conversion_3d', 'conversion_7d']]\n",
    "    .mean()\n",
    "    .reset_index()\n",
    ")\n",
    "\n",
    "print(conversion_stats)\n",
    "\n",
    "\n"
   ]
  },
  {
   "cell_type": "code",
   "execution_count": 8,
   "id": "e70157cd",
   "metadata": {},
   "outputs": [],
   "source": [
    "# Slot hour nikalna\n",
    "df['hour'] = df['slot_start_time'].dt.hour\n"
   ]
  },
  {
   "cell_type": "code",
   "execution_count": 9,
   "id": "6a0745d5",
   "metadata": {},
   "outputs": [],
   "source": [
    "# Har hour me conversion rate\n",
    "hourly_sales = df.groupby('hour')['converted'].mean().reset_index()"
   ]
  },
  {
   "cell_type": "code",
   "execution_count": 10,
   "id": "3d5d65ee",
   "metadata": {},
   "outputs": [
    {
     "data": {
      "image/png": "[encoded data removed]",
      "text/plain": [
       "<Figure size 1000x500 with 1 Axes>"
      ]
     },
     "metadata": {},
     "output_type": "display_data"
    }
   ],
   "source": [
    "plt.figure(figsize=(10,5))\n",
    "sns.lineplot(data=hourly_sales, x='hour', y='converted', marker='o')\n",
    "plt.title(\"Best Hours for Conversion\")\n",
    "plt.xlabel(\"Hour of Day\")\n",
    "plt.ylabel(\"Conversion Rate\")\n",
    "plt.show()"
   ]
  },
  {
   "cell_type": "code",
   "execution_count": 11,
   "id": "391e0c0a",
   "metadata": {},
   "outputs": [],
   "source": [
    "coach_performance = df.groupby('target_class')['converted'].mean().reset_index()"
   ]
  },
  {
   "cell_type": "code",
   "execution_count": 12,
   "id": "19e05678",
   "metadata": {},
   "outputs": [
    {
     "data": {
      "image/png": "[encoded data removed]",
      "text/plain": [
       "<Figure size 600x400 with 1 Axes>"
      ]
     },
     "metadata": {},
     "output_type": "display_data"
    }
   ],
   "source": [
    "plt.figure(figsize=(6,4))\n",
    "sns.barplot(data=coach_performance, x='target_class', y='converted', order=['A','B','C','D'])\n",
    "plt.title(\"Coach Class vs Conversion Rate\")\n",
    "plt.show()"
   ]
  },
  {
   "cell_type": "code",
   "execution_count": 13,
   "id": "9cc2e691",
   "metadata": {},
   "outputs": [
    {
     "data": {
      "text/plain": [
       "Index(['expert_id', 'team_lead_id', 'user_id', 'India vs NRI',\n",
       "       'medicalconditionflag', 'funnel', 'event_type', 'current_status',\n",
       "       'handled_time', 'slot_start_time', 'booked_flag', 'payment_time',\n",
       "       'target_class', 'converted', 'conversion_3d', 'conversion_7d', 'hour'],\n",
       "      dtype='object')"
      ]
     },
     "execution_count": 13,
     "metadata": {},
     "output_type": "execute_result"
    }
   ],
   "source": [
    "df.columns"
   ]
  },
  {
   "cell_type": "code",
   "execution_count": 14,
   "id": "254d0fbe",
   "metadata": {},
   "outputs": [
    {
     "name": "stdout",
     "output_type": "stream",
     "text": [
      "Conversion by Country Type:\n",
      "   India vs NRI  conversion_rate\n",
      "0        India         0.043125\n",
      "1          NRI         0.067571\n",
      "2        Other         0.013661\n"
     ]
    }
   ],
   "source": [
    "# Country type comparison\n",
    "country_insights = df.groupby('India vs NRI')['converted'].mean().reset_index()\n",
    "country_insights.rename(columns={'converted': 'conversion_rate'}, inplace=True)\n",
    "\n",
    "print(\"Conversion by Country Type:\\n\", country_insights)"
   ]
  },
  {
   "cell_type": "code",
   "execution_count": 15,
   "id": "7717e181",
   "metadata": {},
   "outputs": [
    {
     "name": "stdout",
     "output_type": "stream",
     "text": [
      "Conversion by Funnel:\n",
      "   funnel  converted\n",
      "0    Bot   0.061693\n",
      "1     FT   0.033533\n"
     ]
    }
   ],
   "source": [
    "# Funnel wise total conversions\n",
    "funnel_insights = df.groupby('funnel')['converted'].mean().reset_index()\n",
    "print(\"Conversion by Funnel:\\n\", funnel_insights)\n"
   ]
  },
  {
   "cell_type": "code",
   "execution_count": 16,
   "id": "7129389d",
   "metadata": {},
   "outputs": [
    {
     "name": "stdout",
     "output_type": "stream",
     "text": [
      "🔹 Recommendations:\n",
      "1. Focus on Funnel + Lead Types with higher 7-day conversion.\n",
      "2. Run campaigns during peak conversion hours:     hour  converted\n",
      "0      0   0.086379\n",
      "1      1   0.071429\n",
      "20    22   0.067609\n",
      "3. Assign high-value leads to 'A' & 'B' coaches for max sales.\n",
      "4. Consider special strategy for NRI vs India leads depending on performance.\n"
     ]
    }
   ],
   "source": [
    "print(\"🔹 Recommendations:\")\n",
    "print(\"1. Focus on Funnel + Lead Types with higher 7-day conversion.\")\n",
    "print(\"2. Run campaigns during peak conversion hours:\", hourly_sales.sort_values('converted', ascending=False).head(3))\n",
    "print(\"3. Assign high-value leads to 'A' & 'B' coaches for max sales.\")\n",
    "print(\"4. Consider special strategy for NRI vs India leads depending on performance.\")"
   ]
  },
  {
   "cell_type": "code",
   "execution_count": null,
   "id": "18563405",
   "metadata": {},
   "outputs": [],
   "source": []
  }
 ],
 "metadata": {
  "kernelspec": {
   "display_name": ".venv (3.13.2)",
   "language": "python",
   "name": "python3"
  },
  "language_info": {
   "codemirror_mode": {
    "name": "ipython",
    "version": 3
   },
   "file_extension": ".py",
   "mimetype": "text/x-python",
   "name": "python",
   "nbconvert_exporter": "python",
   "pygments_lexer": "ipython3",
   "version": "3.13.2"
  }
 },
 "nbformat": 4,
 "nbformat_minor": 5
}
